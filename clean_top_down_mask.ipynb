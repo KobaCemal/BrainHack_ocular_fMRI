{
 "cells": [
  {
   "cell_type": "code",
   "execution_count": 1,
   "id": "2058f02b-85c3-4999-8112-4988cd195440",
   "metadata": {},
   "outputs": [],
   "source": [
    "import os\n",
    "from nilearn import plotting\n",
    "import nibabel as nib\n",
    "import numpy as np\n",
    "import matplotlib.pyplot as plt\n",
    "import nilearn.plotting as niplot\n",
    "from nilearn.masking import apply_mask\n",
    "from scipy.ndimage import center_of_mass\n",
    "from nilearn.image import mean_img\n",
    "from scipy.ndimage import label\n",
    "import pandas as pd\n",
    "\n",
    "homedir = \"/Users/jan/Documents/example data/\"\n",
    "os.chdir(homedir)"
   ]
  },
  {
   "cell_type": "code",
   "execution_count": 2,
   "id": "11a26ea6-95a8-4ea7-800e-78e2726fb0d2",
   "metadata": {},
   "outputs": [],
   "source": [
    "fmri = \"smoothed.nii\"\n",
    "mask = \"BrainHack_ocular_fMRI/eye_niftii/graymattermask_resampled.nii.gz\"\n",
    "nau_eye_mask = \"BrainHack_ocular_fMRI/eye_niftii/nau_mask_resampled.nii.gz\""
   ]
  },
  {
   "cell_type": "code",
   "execution_count": 3,
   "id": "ce5a2c8f-549c-4e33-9531-85923cab1170",
   "metadata": {},
   "outputs": [],
   "source": [
    "def load_masks_and_data(fmri: str, mask: str, nau_eye_mask: str):\n",
    "    \"\"\"Loads fmri and mask images\n",
    "    fmri: path to fmri .nii image [prefered smoothed image]\n",
    "    mask: path to graymatter mask .nii.gz image\n",
    "    nau_eye_mask: path to mask created with nau algorithm .nii.gz image\n",
    "\n",
    "    returns: \n",
    "        fmri_img: ...\n",
    "        fmri_data_4d: ...\n",
    "        mask_data: ...\n",
    "        eyemask_data: ...\n",
    "        n_timepoints: int specifing number of timepoints in the image\n",
    "    \"\"\"\n",
    "\n",
    "    \n",
    "    # Load fMRI (4D) and brain mask (3D)\n",
    "    fmri_img = nib.load(fmri)\n",
    "    mask_img = nib.load(mask)\n",
    "    eyemask_img = nib.load(nau_eye_mask)\n",
    "    \n",
    "    mask_data = mask_img.get_fdata().astype(bool)\n",
    "    eyemask_data = eyemask_img.get_fdata().astype(bool)\n",
    "    \n",
    "    fmri_data_4d = fmri_img.get_fdata()\n",
    "    n_timepoints = fmri_data_4d.shape[3]\n",
    "    \n",
    "    return fmri_img, fmri_data_4d, mask_data, eyemask_data, n_timepoints"
   ]
  }
 ],
 "metadata": {
  "kernelspec": {
   "display_name": "Python 3 (ipykernel)",
   "language": "python",
   "name": "python3"
  },
  "language_info": {
   "codemirror_mode": {
    "name": "ipython",
    "version": 3
   },
   "file_extension": ".py",
   "mimetype": "text/x-python",
   "name": "python",
   "nbconvert_exporter": "python",
   "pygments_lexer": "ipython3",
   "version": "3.11.7"
  }
 },
 "nbformat": 4,
 "nbformat_minor": 5
}
